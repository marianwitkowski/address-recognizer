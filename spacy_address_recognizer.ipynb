{
  "nbformat": 4,
  "nbformat_minor": 0,
  "metadata": {
    "colab": {
      "provenance": []
    },
    "kernelspec": {
      "name": "python3",
      "display_name": "Python 3"
    },
    "language_info": {
      "name": "python"
    }
  },
  "cells": [
    {
      "cell_type": "code",
      "execution_count": null,
      "metadata": {
        "id": "Hg_HRu2ZNoVx",
        "collapsed": true
      },
      "outputs": [],
      "source": [
        "!pip install spacy -q\n",
        "!python -m spacy download pl_core_news_sm\n",
        "!pip install rapidfuzz -q"
      ]
    },
    {
      "cell_type": "markdown",
      "source": [
        "## 1. Użycie wbudowanego modelu spaCy\n",
        "\n",
        "Model pl_core_news_sm w **spaCy** jest już wytrenowany do rozpoznawania lokalizacji (np. miast, ulic) oraz innych jednostek nazwanych, takich jak osoby czy organizacje. Możesz wykorzystać ten model do identyfikacji podstawowych elementów w danych teleadresowych."
      ],
      "metadata": {
        "id": "je7o_H6LN1f3"
      }
    },
    {
      "cell_type": "code",
      "source": [
        "import spacy\n",
        "\n",
        "# Załaduj polski model językowy\n",
        "nlp = spacy.load(\"pl_core_news_sm\")\n",
        "\n",
        "# Tekst do analizy\n",
        "text = \"Kraków, ul. Floriańska 10, 30-001, tel. 123-456-789\"\n",
        "\n",
        "# Przetwarzanie tekstu\n",
        "doc = nlp(text)\n",
        "\n",
        "# Wyodrębnianie encji nazwanych\n",
        "for ent in doc.ents:\n",
        "    print(f\"Tekst: {ent.text}, Typ: {ent.label_}\")"
      ],
      "metadata": {
        "id": "rGCq65F1NtEi",
        "colab": {
          "base_uri": "https://localhost:8080/"
        },
        "outputId": "2aa978f9-8bb2-43e8-99c0-9285f47441d9"
      },
      "execution_count": 1,
      "outputs": [
        {
          "output_type": "stream",
          "name": "stdout",
          "text": [
            "Tekst: Kraków, Typ: placeName\n",
            "Tekst: ul., Typ: geogName\n",
            "Tekst: Floriańska, Typ: geogName\n"
          ]
        }
      ]
    },
    {
      "cell_type": "markdown",
      "source": [
        "## 2. Rozszerzenie modelu o nowe encje\n",
        "\n",
        "Jeśli wbudowany model spaCy nie rozpoznaje specyficznych elementów (np. numerów telefonów, kodów pocztowych), możesz dodać własne reguły lub wytrenować model na własnych danych.\n",
        "\n",
        "Dodanie reguł (matcher):\n",
        "\n",
        "Możesz użyć mechanizmu **Matcher** lub **EntityRuler**, aby rozpoznawać specyficzne wzorce, takie jak numery telefonów czy kody pocztowe.\n",
        "\n"
      ],
      "metadata": {
        "id": "GBiVpHCTOXZK"
      }
    },
    {
      "cell_type": "code",
      "source": [
        "from spacy.matcher import Matcher\n",
        "\n",
        "# Inicjalizacja matcher\n",
        "matcher = Matcher(nlp.vocab)\n",
        "\n",
        "# Definicja wzorców (np. numer telefonu, kod pocztowy)\n",
        "phone_pattern = [{\"SHAPE\": \"ddd\"}, {\"TEXT\": \"-\"}, {\"SHAPE\": \"ddd\"}, {\"TEXT\": \"-\"}, {\"SHAPE\": \"ddd\"}]\n",
        "postal_code_pattern = [{\"SHAPE\": \"ddd\"}, {\"TEXT\": \"-\"}, {\"SHAPE\": \"ddd\"}]\n",
        "\n",
        "# Dodanie wzorców\n",
        "matcher.add(\"PHONE_NUMBER\", [phone_pattern])\n",
        "matcher.add(\"POSTAL_CODE\", [postal_code_pattern])\n",
        "\n",
        "# Tekst do analizy\n",
        "text = \"Kraków, ul. Floriańska 10, 30-001, tel. 123-456-789\"\n",
        "doc = nlp(text)\n",
        "\n",
        "# Dopasowanie wzorców\n",
        "matches = matcher(doc)\n",
        "for match_id, start, end in matches:\n",
        "    span = doc[start:end]\n",
        "    print(f\"Znaleziono: {span.text}, Typ: {nlp.vocab.strings[match_id]}\")"
      ],
      "metadata": {
        "colab": {
          "base_uri": "https://localhost:8080/"
        },
        "id": "YNgC3Iw9OP2q",
        "outputId": "f915dd08-e39b-4569-a194-38cfc6ccddf8"
      },
      "execution_count": 2,
      "outputs": [
        {
          "output_type": "stream",
          "name": "stdout",
          "text": [
            "Znaleziono: 123-456, Typ: POSTAL_CODE\n",
            "Znaleziono: 123-456-789, Typ: PHONE_NUMBER\n",
            "Znaleziono: 456-789, Typ: POSTAL_CODE\n"
          ]
        }
      ]
    },
    {
      "cell_type": "markdown",
      "source": [
        "## 3. Własne wytrenowanie modelu spaCy\n",
        "\n",
        "Jeśli masz dużo danych teleadresowych, możesz wytrenować model **spaCy** na ich podstawie.\n",
        "\n",
        "**Przygotowanie danych treningowych:**\n",
        "\n",
        "Dane muszą być w formacie:"
      ],
      "metadata": {
        "id": "WlXElDxnOnd0"
      }
    },
    {
      "cell_type": "code",
      "source": [
        "TRAIN_DATA = [\n",
        "    (\"Kraków, ul. Floriańska 10, 30-001\", {\"entities\": [(0, 6, 'placeName'), (8, 25, 'streetName'), (27, 33, 'postalCode')]}),\n",
        "    (\"Warszawa, Aleje Jerozolimskie 5, 01-234\", {\"entities\": [(0, 8, 'placeName'), (10, 31, 'streetName'), (33, 39, 'postalCode')]}),\n",
        "]"
      ],
      "metadata": {
        "id": "F8mkOudaOjps"
      },
      "execution_count": 4,
      "outputs": []
    },
    {
      "cell_type": "markdown",
      "source": [
        "#### Funkcja sprawdzająca wyrównanie encji danych"
      ],
      "metadata": {
        "id": "c2BtqCzySxr-"
      }
    },
    {
      "cell_type": "code",
      "source": [
        "from spacy.training import offsets_to_biluo_tags\n",
        "from spacy.tokens import Doc\n",
        "\n",
        "# Załaduj model\n",
        "nlp = spacy.blank(\"pl\")\n",
        "\n",
        "# Przykładowe dane\n",
        "text = \"Kraków, ul. Floriańska 10, 30-001\"\n",
        "entities = [(0, 6, 'placeName'), (8, 25, 'streetName'), (27, 33, 'postalCode')]\n",
        "\n",
        "# Sprawdź wyrównanie encji\n",
        "doc = nlp.make_doc(text)\n",
        "biluo_tags = offsets_to_biluo_tags(doc, entities)\n",
        "print(biluo_tags)"
      ],
      "metadata": {
        "colab": {
          "base_uri": "https://localhost:8080/"
        },
        "id": "9ZikT3epQI6x",
        "outputId": "20bd886a-f0e3-4298-bc72-ada79d06401e"
      },
      "execution_count": 12,
      "outputs": [
        {
          "output_type": "stream",
          "name": "stdout",
          "text": [
            "['U-placeName', 'O', 'B-streetName', 'I-streetName', 'I-streetName', 'L-streetName', 'O', 'B-postalCode', 'I-postalCode', 'L-postalCode']\n"
          ]
        }
      ]
    },
    {
      "cell_type": "markdown",
      "source": [
        "#### Trenowanie modelu"
      ],
      "metadata": {
        "id": "CqNBleanO06M"
      }
    },
    {
      "cell_type": "code",
      "source": [
        "import spacy\n",
        "from spacy.training.example import Example\n",
        "from spacy.tokens import DocBin\n",
        "\n",
        "# Przygotowanie modelu\n",
        "nlp = spacy.blank(\"pl\")  # Pusty model dla języka polskiego\n",
        "ner = nlp.add_pipe(\"ner\")\n",
        "\n",
        "# Dodanie etykiet\n",
        "ner.add_label(\"placeName\")\n",
        "ner.add_label(\"streetName\")\n",
        "ner.add_label(\"postalCode\")\n",
        "\n",
        "# Tworzenie danych treningowych\n",
        "examples = []\n",
        "for text, annotations in TRAIN_DATA:\n",
        "    doc = nlp.make_doc(text)\n",
        "    examples.append(Example.from_dict(doc, annotations))\n",
        "\n",
        "# Trenowanie modelu\n",
        "optimizer = nlp.begin_training()\n",
        "for epoch in range(80):\n",
        "    losses = {}\n",
        "    nlp.update(examples, losses=losses, drop=0.3)\n",
        "    if epoch % 5 == 0:\n",
        "      print(f\"Epoch {epoch}, Losses: {losses}\")\n",
        "\n",
        "# Zapis modelu\n",
        "nlp.to_disk(\"teleaddress_model\")"
      ],
      "metadata": {
        "colab": {
          "base_uri": "https://localhost:8080/"
        },
        "id": "iwZTQdPMOxaZ",
        "outputId": "cbb78a2d-93f6-46d8-a319-e988b6cc8ea0"
      },
      "execution_count": 13,
      "outputs": [
        {
          "output_type": "stream",
          "name": "stdout",
          "text": [
            "Epoch 0, Losses: {'ner': 17.642855644226074}\n",
            "Epoch 5, Losses: {'ner': 15.36121779680252}\n",
            "Epoch 10, Losses: {'ner': 9.671059787273407}\n",
            "Epoch 15, Losses: {'ner': 6.335512733552605}\n",
            "Epoch 20, Losses: {'ner': 11.140499805100262}\n",
            "Epoch 25, Losses: {'ner': 15.634618883254007}\n",
            "Epoch 30, Losses: {'ner': 10.811726793646812}\n",
            "Epoch 35, Losses: {'ner': 7.942607365548611}\n",
            "Epoch 40, Losses: {'ner': 4.149004853796214}\n",
            "Epoch 45, Losses: {'ner': 1.5916382318828255}\n",
            "Epoch 50, Losses: {'ner': 0.21559912930388236}\n",
            "Epoch 55, Losses: {'ner': 0.008842473442200571}\n",
            "Epoch 60, Losses: {'ner': 6.785762597938394e-06}\n",
            "Epoch 65, Losses: {'ner': 7.029231605045448e-06}\n",
            "Epoch 70, Losses: {'ner': 2.815597292332452e-08}\n",
            "Epoch 75, Losses: {'ner': 3.030730690203496e-06}\n"
          ]
        }
      ]
    },
    {
      "cell_type": "markdown",
      "source": [
        "#### Użycie wytrenowanego modelu:\n"
      ],
      "metadata": {
        "id": "c-FY8lvgO9yM"
      }
    },
    {
      "cell_type": "code",
      "source": [
        "nlp = spacy.load(\"teleaddress_model\")\n",
        "doc = nlp(\"Kraków, ul. Floriańska 10, 30-001\")\n",
        "for ent in doc.ents:\n",
        "    print(f\"Tekst: {ent.text}, Typ: {ent.label_}\")"
      ],
      "metadata": {
        "colab": {
          "base_uri": "https://localhost:8080/"
        },
        "id": "M3l9nWcDO4nw",
        "outputId": "c7af65d2-052b-44af-c859-8c4430186021"
      },
      "execution_count": 14,
      "outputs": [
        {
          "output_type": "stream",
          "name": "stdout",
          "text": [
            "Tekst: Kraków, Typ: placeName\n",
            "Tekst: ul. Floriańska 10, Typ: streetName\n",
            "Tekst: 30-001, Typ: postalCode\n"
          ]
        }
      ]
    },
    {
      "cell_type": "markdown",
      "source": [
        "## 4. Integracja z innymi narzędziami\n",
        "\n",
        "Możesz łączyć spaCy z innymi bibliotekami:\n",
        "\n",
        "- **re**: Rozpoznawanie wzorców za pomocą wyrażeń regularnych.\n",
        "- **rapidfuzz**: Dopasowanie danych do list miast lub ulic.\n",
        "- **pandas**: Strukturalizacja i analiza danych wyodrębnionych z tekstu."
      ],
      "metadata": {
        "id": "mhZSnPsxSUqb"
      }
    },
    {
      "cell_type": "code",
      "source": [
        "import spacy\n",
        "from spacy.matcher import Matcher\n",
        "\n",
        "nlp = spacy.load(\"pl_core_news_sm\")\n",
        "matcher = Matcher(nlp.vocab)\n",
        "\n",
        "# Definicja wzorców\n",
        "phone_pattern = [{\"SHAPE\": \"ddd\"}, {\"TEXT\": \"-\"}, {\"SHAPE\": \"ddd\"}, {\"TEXT\": \"-\"}, {\"SHAPE\": \"ddd\"}]\n",
        "postal_code_pattern = [{\"SHAPE\": \"ddd\"}, {\"TEXT\": \"-\"}, {\"SHAPE\": \"ddd\"}]\n",
        "\n",
        "matcher.add(\"PHONE_NUMBER\", [phone_pattern])\n",
        "matcher.add(\"POSTAL_CODE\", [postal_code_pattern])\n",
        "\n",
        "# Tekst do rozpoznania\n",
        "text = \"Kraków, ul. Floriańska 10, 30-001, tel. 123-456-789\"\n",
        "\n",
        "doc = nlp(text)\n",
        "\n",
        "results = {\"placeName\": None, \"streetName\": None, \"postalCode\": None, \"phoneNumber\": None}\n",
        "\n",
        "# Rozpoznawanie encji\n",
        "for ent in doc.ents:\n",
        "    if ent.label_ == \"placeName\":\n",
        "        results[\"placeName\"] = ent.text\n",
        "    elif ent.label_ == \"streetName\":\n",
        "        results[\"streetName\"] = ent.text\n",
        "\n",
        "# Dopasowanie wzorców\n",
        "matches = matcher(doc)\n",
        "for match_id, start, end in matches:\n",
        "    span = doc[start:end]\n",
        "    if nlp.vocab.strings[match_id] == \"PHONE_NUMBER\":\n",
        "        results[\"phoneNumber\"] = span.text\n",
        "    elif nlp.vocab.strings[match_id] == \"POSTAL_CODE\":\n",
        "        results[\"postalCode\"] = span.text\n",
        "\n",
        "print(results)"
      ],
      "metadata": {
        "colab": {
          "base_uri": "https://localhost:8080/"
        },
        "id": "iv1lrE6APDQv",
        "outputId": "2a64f4d5-ff13-40ee-d843-802edcc93d77"
      },
      "execution_count": 21,
      "outputs": [
        {
          "output_type": "stream",
          "name": "stdout",
          "text": [
            "{'placeName': 'Kraków', 'streetName': 'Floriańska 10', 'postalCode': '456-789', 'phoneNumber': '123-456-789'}\n"
          ]
        }
      ]
    },
    {
      "cell_type": "code",
      "source": [],
      "metadata": {
        "id": "FhxBJNWHShjM"
      },
      "execution_count": null,
      "outputs": []
    }
  ]
}